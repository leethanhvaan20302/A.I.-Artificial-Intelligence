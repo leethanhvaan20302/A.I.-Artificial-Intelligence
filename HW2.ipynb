{
  "nbformat": 4,
  "nbformat_minor": 0,
  "metadata": {
    "colab": {
      "provenance": [],
      "authorship_tag": "ABX9TyNdflw1Zl6xkJIT1qkbdRak",
      "include_colab_link": true
    },
    "kernelspec": {
      "name": "python3",
      "display_name": "Python 3"
    },
    "language_info": {
      "name": "python"
    }
  },
  "cells": [
    {
      "cell_type": "markdown",
      "metadata": {
        "id": "view-in-github",
        "colab_type": "text"
      },
      "source": [
        "<a href=\"https://colab.research.google.com/github/leethanhvaan20302/desktop-tutorial/blob/main/HW2.ipynb\" target=\"_parent\"><img src=\"https://colab.research.google.com/assets/colab-badge.svg\" alt=\"Open In Colab\"/></a>"
      ]
    },
    {
      "cell_type": "code",
      "execution_count": null,
      "metadata": {
        "colab": {
          "base_uri": "https://localhost:8080/"
        },
        "id": "ozofRAiUPaA7",
        "outputId": "f9397016-ac16-4763-9ff2-da3cdd3386a3"
      },
      "outputs": [
        {
          "output_type": "execute_result",
          "data": {
            "text/plain": [
              "2020    9\n",
              "2019    5\n",
              "2018    3\n",
              "2021    2\n",
              "Name: Year, dtype: int64"
            ]
          },
          "metadata": {},
          "execution_count": 17
        }
      ],
      "source": [
        "import pandas as pd\n",
        "url = 'Book1.csv'\n",
        "dataframe = pd.read_csv(url, encoding='utf-8') # specify the encoding as utf-8\n",
        "dataframe.head(20) # print the first 20 rows of the dataframe\n",
        "dataframe.iloc[0:4, :] # print the first 4 rows of the dataframe\n",
        "dataframe.shape # print the shape of the dataframe\n",
        "dataframe.describe() # print summary statistics of the dataframe\n",
        "\n",
        "# Get data for a specific column\n",
        "frame = dataframe.set_index('Khoa')\n",
        "frame.loc['CKM']\n",
        "\n",
        "# Filter the dataframe\n",
        "dataframe[dataframe['Khoa'] == 'CKM'].head(10)\n",
        "dataframe[(dataframe['Khoa']=='CKM') & (dataframe['Year']==2020)].head(20)\n",
        "\n",
        "# Aggregate the data\n",
        "dataframe['Year'].min() #Giá trị nhỏ nhất trong 1 trường\n",
        "dataframe['Year'].max()\n",
        "dataframe['Year'].mean()\n",
        "dataframe['Year'].sum()\n",
        "dataframe['Year'].count()\n",
        "dataframe['Year'].unique()\n",
        "dataframe['Year'].value_counts() \n",
        "\n"
      ]
    }
  ]
}