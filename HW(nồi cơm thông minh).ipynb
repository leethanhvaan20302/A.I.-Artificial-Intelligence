{
  "nbformat": 4,
  "nbformat_minor": 0,
  "metadata": {
    "colab": {
      "provenance": [],
      "authorship_tag": "ABX9TyNsd2g+EBcmU/H93WU85uOD",
      "include_colab_link": true
    },
    "kernelspec": {
      "name": "python3",
      "display_name": "Python 3"
    },
    "language_info": {
      "name": "python"
    }
  },
  "cells": [
    {
      "cell_type": "markdown",
      "metadata": {
        "id": "view-in-github",
        "colab_type": "text"
      },
      "source": [
        "<a href=\"https://colab.research.google.com/github/leethanhvaan20302/desktop-tutorial/blob/main/HW(n%E1%BB%93i%20c%C6%A1m%20th%C3%B4ng%20minh).ipynb\" target=\"_parent\"><img src=\"https://colab.research.google.com/assets/colab-badge.svg\" alt=\"Open In Colab\"/></a>"
      ]
    },
    {
      "cell_type": "code",
      "source": [
        "!pip install numpy\n",
        "!pip install -U scikit-fuzzy"
      ],
      "metadata": {
        "colab": {
          "base_uri": "https://localhost:8080/"
        },
        "id": "CT95Q7GDo7J5",
        "outputId": "a06ebfb8-cf17-45bb-8acb-00e9a0f9aa86"
      },
      "execution_count": 2,
      "outputs": [
        {
          "output_type": "stream",
          "name": "stdout",
          "text": [
            "Looking in indexes: https://pypi.org/simple, https://us-python.pkg.dev/colab-wheels/public/simple/\n",
            "Requirement already satisfied: numpy in /usr/local/lib/python3.8/dist-packages (1.22.4)\n",
            "Looking in indexes: https://pypi.org/simple, https://us-python.pkg.dev/colab-wheels/public/simple/\n",
            "Collecting scikit-fuzzy\n",
            "  Downloading scikit-fuzzy-0.4.2.tar.gz (993 kB)\n",
            "\u001b[2K     \u001b[90m━━━━━━━━━━━━━━━━━━━━━━━━━━━━━━━━━━━━━━\u001b[0m \u001b[32m994.0/994.0 KB\u001b[0m \u001b[31m27.1 MB/s\u001b[0m eta \u001b[36m0:00:00\u001b[0m\n",
            "\u001b[?25h  Preparing metadata (setup.py) ... \u001b[?25l\u001b[?25hdone\n",
            "Requirement already satisfied: numpy>=1.6.0 in /usr/local/lib/python3.8/dist-packages (from scikit-fuzzy) (1.22.4)\n",
            "Requirement already satisfied: scipy>=0.9.0 in /usr/local/lib/python3.8/dist-packages (from scikit-fuzzy) (1.7.3)\n",
            "Requirement already satisfied: networkx>=1.9.0 in /usr/local/lib/python3.8/dist-packages (from scikit-fuzzy) (3.0)\n",
            "Building wheels for collected packages: scikit-fuzzy\n",
            "  Building wheel for scikit-fuzzy (setup.py) ... \u001b[?25l\u001b[?25hdone\n",
            "  Created wheel for scikit-fuzzy: filename=scikit_fuzzy-0.4.2-py3-none-any.whl size=894088 sha256=4107f462d64772ef960e6a4008c4a83e376b02cf116386e23c0d5dbcd30c1be9\n",
            "  Stored in directory: /root/.cache/pip/wheels/2c/04/80/7eefb1a2de7d36aefd06432fab2a1486caf0a0596a7067391a\n",
            "Successfully built scikit-fuzzy\n",
            "Installing collected packages: scikit-fuzzy\n",
            "Successfully installed scikit-fuzzy-0.4.2\n"
          ]
        }
      ]
    },
    {
      "cell_type": "code",
      "source": [
        "from numpy.ma.core import less\n",
        "#\n",
        "import numpy as np\n",
        "import skfuzzy as fuzz\n",
        "from skfuzzy import control as ctrl \n",
        "\n",
        "time=ctrl.Antecedent(np.arange(10,160,10),'Time')\n",
        "rice=ctrl.Antecedent(np.arange(200,1000,100),'Rice')\n",
        "\n",
        "power=ctrl.Consequent(np.arange(200,1000,100),'power')\n",
        "power['S'] = fuzz.trimf(power.universe, [200, 400, 400])\n",
        "power['AV'] = fuzz.trimf(power.universe, [200, 500, 600])\n",
        "power['H'] = fuzz.trimf(power.universe, [400, 700, 800])\n",
        "power['VH'] = fuzz.trimf(power.universe, [600, 900, 1000])\n",
        "\n",
        "time['VF']=fuzz.trimf(time.universe,[10,25,40])\n",
        "time['F']=fuzz.trimf(time.universe,[25,40,55])\n",
        "time['AV']=fuzz.trimf(time.universe,[40,55,70])\n",
        "time['S']=fuzz.trimf(time.universe,[55,70,85])\n",
        "time['VL']=fuzz.trimf(time.universe,[85,100,160])\n",
        "\n",
        "rice['small']=fuzz.trimf(rice.universe,[200, 400, 400])\n",
        "rice['few']=fuzz.trimf(rice.universe,[200, 500, 600])\n",
        "rice['normal']=fuzz.trimf(rice.universe,[400, 700, 800])\n",
        "rice['much']=fuzz.trimf(rice.universe,[600, 900, 1000])\n",
        "\n",
        "#food.view()     #food['average'].view()\n",
        "#service.view()\n",
        "#tip.view()\n",
        "\n",
        "rule1=ctrl.Rule(time['VF'] & rice['small'],power['S'])\n",
        "rule2=ctrl.Rule(time['VF']&rice['few'],power['H'])\n",
        "rule3=ctrl.Rule(time['VF']&rice['normal'],power['H'])\n",
        "rule4=ctrl.Rule(time['VF']&rice['much'],power['VH'])\n",
        "\n",
        "rule5=ctrl.Rule(time['F']&rice['small'],power['S'])\n",
        "rule6=ctrl.Rule(time['F']&rice['few'],power['H'])\n",
        "rule7=ctrl.Rule(time['F']&rice['normal'],power['H'])\n",
        "rule8=ctrl.Rule(time['F']&rice['much'],power['VH'])\n",
        "\n",
        "rule9=ctrl.Rule(time['AV']&rice['small'],power['S'])\n",
        "rule10=ctrl.Rule(time['AV']&rice['few'],power['AV'])\n",
        "rule11=ctrl.Rule(time['AV']&rice['normal'],power['H'])\n",
        "rule12=ctrl.Rule(time['AV']&rice['much'],power['H'])\n",
        "\n",
        "rule13=ctrl.Rule(time['S']&rice['small'],power['S'])\n",
        "rule14=ctrl.Rule(time['S']&rice['few'],power['AV'])\n",
        "rule15=ctrl.Rule(time['S']&rice['normal'],power['H'])\n",
        "rule16=ctrl.Rule(time['S']&rice['much'],power['H'])\n",
        "\n",
        "rule17=ctrl.Rule(time['VL']&rice['small'],power['S'])\n",
        "rule18=ctrl.Rule(time['VL']&rice['few'],power['AV'])\n",
        "rule19=ctrl.Rule(time['VL']&rice['normal'],power['H'])\n",
        "rule20=ctrl.Rule(time['VL']&rice['much'],power['H'])\n",
        "\n",
        "\n",
        "#rule1.view()\n",
        "\n",
        "powering_ctrl=ctrl.ControlSystem([rule1,rule2,rule3,rule4,rule5,rule6,rule7,rule8,rule9,rule9,rule10,rule12,rule13,rule14,rule15,rule16,rule17,rule19,rule19,rule20])   # liệt kê ra tất cả các luật\n",
        "powering=ctrl.ControlSystemSimulation(powering_ctrl)\n",
        "\n",
        "\n",
        "#Time(phút), Rice(gg)\n",
        "powering.input['Time']=30   \n",
        "powering.input['Rice']=500\n",
        "\n",
        "powering.compute()\n",
        "print(powering.output['power'])\n",
        "power.view(sim=powering)\n",
        "\n"
      ],
      "metadata": {
        "colab": {
          "base_uri": "https://localhost:8080/",
          "height": 299
        },
        "id": "lq619s7UryZJ",
        "outputId": "c3f1fb11-568c-45ff-aae5-4dab5adab78e"
      },
      "execution_count": 5,
      "outputs": [
        {
          "output_type": "stream",
          "name": "stdout",
          "text": [
            "627.7777777777777\n"
          ]
        },
        {
          "output_type": "display_data",
          "data": {
            "text/plain": [
              "<Figure size 432x288 with 1 Axes>"
            ],
            "image/png": "[encoded data removed]"
          },
          "metadata": {
            "needs_background": "light"
          }
        }
      ]
    }
  ]
}