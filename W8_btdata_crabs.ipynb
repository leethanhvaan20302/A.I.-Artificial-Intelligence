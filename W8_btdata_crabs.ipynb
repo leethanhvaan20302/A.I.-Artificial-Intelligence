{
  "nbformat": 4,
  "nbformat_minor": 0,
  "metadata": {
    "colab": {
      "provenance": [],
      "authorship_tag": "ABX9TyOJn1eithhxXpr8Ti5BtjVG",
      "include_colab_link": true
    },
    "kernelspec": {
      "name": "python3",
      "display_name": "Python 3"
    },
    "language_info": {
      "name": "python"
    }
  },
  "cells": [
    {
      "cell_type": "markdown",
      "metadata": {
        "id": "view-in-github",
        "colab_type": "text"
      },
      "source": [
        "<a href=\"https://colab.research.google.com/github/leethanhvaan20302/desktop-tutorial/blob/main/W8_btdata_crabs.ipynb\" target=\"_parent\"><img src=\"https://colab.research.google.com/assets/colab-badge.svg\" alt=\"Open In Colab\"/></a>"
      ]
    },
    {
      "cell_type": "code",
      "execution_count": null,
      "metadata": {
        "colab": {
          "base_uri": "https://localhost:8080/"
        },
        "id": "7p_mC-1Qsjhx",
        "outputId": "380e0e28-d41d-4c36-f8a9-ba7cff7b42be"
      },
      "outputs": [
        {
          "output_type": "execute_result",
          "data": {
            "text/plain": [
              "1.0"
            ]
          },
          "metadata": {},
          "execution_count": 5
        }
      ],
      "source": [
        "from sklearn.linear_model import Perceptron\n",
        "x=[[0,0],[0,1],[1,0],[1,1]]\n",
        "t=[0,1,1,1]\n",
        "model = Perceptron()\n",
        "model.fit(x,t)\n",
        "model.score(x,t)"
      ]
    },
    {
      "cell_type": "code",
      "source": [
        "x1=[[0.5,0.5],[-0.5,-0.5],[10,2.3],[-1,-2]]\n",
        "y1= model.predict(x1)\n",
        "model.score(x1,y1)"
      ],
      "metadata": {
        "colab": {
          "base_uri": "https://localhost:8080/"
        },
        "id": "XWeeVoeuvR74",
        "outputId": "f1337472-5a52-4868-c50b-3e92cf8b35b5"
      },
      "execution_count": null,
      "outputs": [
        {
          "output_type": "execute_result",
          "data": {
            "text/plain": [
              "1.0"
            ]
          },
          "metadata": {},
          "execution_count": 7
        }
      ]
    },
    {
      "cell_type": "code",
      "source": [],
      "metadata": {
        "id": "uW26Zsomxk2H"
      },
      "execution_count": null,
      "outputs": []
    },
    {
      "cell_type": "code",
      "source": [
        "x_train = [[0,0], [0,1], [1,0], [1,1]]\n",
        "y_train = [0, 1, 1, 1]\n",
        "x_test = [[0.5,0.5],[-0.5,-0.5],[10,2.3],[-1,-2]]\n",
        "#x_test = [[0.5,0.5],[0.5,0],[-0.5,-0.5],[0.4,0]]\n",
        "y_test = model.predict(x1)\n",
        "\n",
        "model = Perceptron()\n",
        "model.fit(x_train, y_train)\n",
        "\n",
        "y_pred = model.predict(x_test)\n",
        "accuracy = model.score(x_test, y_test)\n",
        "print(\"Accuracy:\", accuracy)\n",
        "print(\"y1= \", y_test)\n",
        "\n"
      ],
      "metadata": {
        "colab": {
          "base_uri": "https://localhost:8080/"
        },
        "id": "ccWmFZX_wOQo",
        "outputId": "010f3e1b-ed20-483c-afc3-996b9efebaa0"
      },
      "execution_count": null,
      "outputs": [
        {
          "output_type": "stream",
          "name": "stdout",
          "text": [
            "Accuracy: 1.0\n",
            "y1=  [1 0 1 0]\n"
          ]
        }
      ]
    },
    {
      "cell_type": "code",
      "source": [
        "x1 = [[0.5, 0.5], [-0.5, -0.5], [10, 2.3], [-1, -2]]\n",
        "x1_transformed = [[0.5, 0.5], [-0.5, -0.5], [10, 2.3], [-1, -2]]\n",
        "for i in range(len(x1_transformed)):\n",
        "    for j in range(len(x1_transformed[i])):\n",
        "        x1_transformed[i][j] = float(x1_transformed[i][j])\n",
        "\n",
        "y1 = model.predict(x1_transformed)\n",
        "score = model.score(x1_transformed, y1)\n",
        "print(\"Accuracy:\", score)\n",
        "\n"
      ],
      "metadata": {
        "colab": {
          "base_uri": "https://localhost:8080/"
        },
        "id": "dZfjpQIUxSZQ",
        "outputId": "70112456-19bf-4ad8-d860-271fd2b68b46"
      },
      "execution_count": null,
      "outputs": [
        {
          "output_type": "stream",
          "name": "stdout",
          "text": [
            "Accuracy: 1.0\n"
          ]
        }
      ]
    },
    {
      "cell_type": "code",
      "source": [
        "\n",
        "from sklearn.linear_model import Perceptron\n",
        "x=[[-0.5,-0.5],[-0.5,0.5],[0.3,-0.5],[-0.1,1]]\n",
        "t=[1,1,0,0]\n",
        "\n",
        "x_test = [[0.5,0.5],[-0.5,-0.5],[10,2.3],[-1,-2]]\n",
        "#x_test = [[0.5,0.5],[0.5,0],[-0.5,-0.5],[0.4,0]]\n",
        "y1 = model.predict(x1)\n",
        "\n",
        "\n",
        "model = Perceptron()\n",
        "model.  (x,t)\n",
        "score = model.score(x,t)\n",
        "print(\"Accuracy:\",score)\n",
        "\n",
        "\n",
        "x1=[[0.5,0.5],[-0.5,-0.5],[10,2.3],[-1,-2]]\n",
        "y1= model.predict(x1)\n",
        "model.score(x1,y1)"
      ],
      "metadata": {
        "colab": {
          "base_uri": "https://localhost:8080/"
        },
        "id": "BeUZTauPyt4G",
        "outputId": "d028d0c1-6264-4d3c-8599-03a96a7882f8"
      },
      "execution_count": null,
      "outputs": [
        {
          "output_type": "execute_result",
          "data": {
            "text/plain": [
              "1.0"
            ]
          },
          "metadata": {},
          "execution_count": 15
        }
      ]
    },
    {
      "cell_type": "code",
      "source": [
        "import numpy as np\n",
        "import matplotlib.pyplot as plt\n",
        "from sklearn.linear_model import Perceptron\n",
        "\n",
        "# Khởi tạo dữ liệu\n",
        "X = np.array([[-0.5,-0.5],[-0.5,0.5],[0.3,-0.5],[-0.1,1]])\n",
        "y = np.array([1,1,0,0])\n",
        "\n",
        "# Khởi tạo mô hình Perceptron\n",
        "model = Perceptron()\n",
        "\n",
        "# Huấn luyện mô hình trên dữ liệu\n",
        "model.fit(X, y)\n",
        "\n",
        "# Tìm ra các trọng số của mô hình\n",
        "w = model.coef_[0]\n",
        "b = model.intercept_\n",
        "\n",
        "# Vẽ biểu đồ dữ liệu\n",
        "plt.scatter(X[:, 0], X[:, 1], c=y)\n",
        "\n",
        "# Tìm và vẽ ranh giới tuyến tính đơn giản nhất\n",
        "x_min, x_max = plt.xlim()\n",
        "y_min, y_max = plt.ylim()\n",
        "xx = np.linspace(x_min, x_max)\n",
        "yy = (-w[0]/w[1])*xx - b/w[1]\n",
        "plt.plot(xx, yy, 'k-')\n",
        "\n",
        "# Hiển thị biểu đồ\n",
        "plt.show()\n"
      ],
      "metadata": {
        "id": "uKzHBhq51an_",
        "colab": {
          "base_uri": "https://localhost:8080/",
          "height": 265
        },
        "outputId": "a7a647be-fc6c-4dca-c822-c9e40384bf95"
      },
      "execution_count": 16,
      "outputs": [
        {
          "output_type": "display_data",
          "data": {
            "text/plain": [
              "<Figure size 432x288 with 1 Axes>"
            ],
            "image/png": "[encoded data removed]"
          },
          "metadata": {
            "needs_background": "light"
          }
        }
      ]
    },
    {
      "cell_type": "code",
      "source": [
        "from sklearn.linear_model import Perceptron\n",
        "from sklearn import datasets # datasets chứa nhiều loại dữ liệu khác nhau , từ kích thước các loạiloại hoa lan, vật dụng trong  nhà ,....\n",
        "from sklearn.model_selection import train_test_split\n",
        "from sklearn.metrics import accuracy_score\n",
        "from sklearn.preprocessing import StandardScaler \n",
        "\n",
        "iris= datasets.load_iris()\n",
        "x= iris.data\n",
        "y=iris.target # cú pháp mặc định\n",
        "\n",
        "print(\"x=\",x[:5])\n",
        "print(\"y= \",y[:5])\n",
        "\n",
        "x_train, x_test,y_train, y_test= train_test_split(x,y,test_size=0.3)  #30% data dùng để test, 70% còn lại là để train\n",
        "\n",
        "sc= StandardScaler()    # scal có thể giúp tăng kết quả chính xác\n",
        "sc.fit(x_train)\n",
        "\n",
        "x_train_std= sc.transform(x_train)\n",
        "x_test_std= sc.transform(x_test)\n",
        "\n",
        "print(x_train_std[:5],x_train[:5])\n",
        "print(y[:5])\n",
        "\n",
        "model= Perceptron(max_iter=40, eta0=0.1,random_state=0) # học max_iter=40 // học 40 lần|        tốc dộ học eta0=0.1// Giá trị của eta0 có thể được chọn trong khoảng từ 0 đến 1 trung bình, học nhanh sẽ bỏ qua điểm hội tụ nghiệm làm kết quả chính xác thấp hơn\n",
        "model.fit(x_train_std,y_train)\n",
        "y_pred= model.predict(x_test_std)\n",
        "print(y_pred)\n",
        "print(y_test)\n",
        "print(\"Độ chính xác của mô hình\", accuracy_score(y_test,y_pred))\n"
      ],
      "metadata": {
        "colab": {
          "base_uri": "https://localhost:8080/"
        },
        "id": "xrnu4CO22Zl_",
        "outputId": "e296b80d-c9d5-4cce-b9a4-92891d787fa9"
      },
      "execution_count": 30,
      "outputs": [
        {
          "output_type": "stream",
          "name": "stdout",
          "text": [
            "x= [[5.1 3.5 1.4 0.2]\n",
            " [4.9 3.  1.4 0.2]\n",
            " [4.7 3.2 1.3 0.2]\n",
            " [4.6 3.1 1.5 0.2]\n",
            " [5.  3.6 1.4 0.2]]\n",
            "y=  [0 0 0 0 0]\n",
            "[[-1.53642869  0.41697392 -1.39496942 -1.36478365]\n",
            " [-1.0259065  -2.2912072  -0.15418379 -0.28223571]\n",
            " [-0.26012321 -1.1627984   0.08215633 -0.14691722]\n",
            " [ 0.25039898  0.86833744  0.43666651  0.52967524]\n",
            " [-0.38775376 -1.38848016 -0.03601373 -0.28223571]] [[4.6 3.2 1.4 0.2]\n",
            " [5.  2.  3.5 1. ]\n",
            " [5.6 2.5 3.9 1.1]\n",
            " [6.  3.4 4.5 1.6]\n",
            " [5.5 2.4 3.7 1. ]]\n",
            "[0 0 0 0 0]\n",
            "[0 0 1 2 1 2 2 2 2 2 2 0 0 2 1 1 1 0 1 0 0 0 0 2 2 1 0 2 0 0 0 0 0 2 1 2 2\n",
            " 2 0 0 2 2 2 0 2]\n",
            "[0 0 2 1 1 2 2 2 2 2 1 0 0 2 1 1 1 0 1 0 0 0 0 2 2 2 1 1 0 0 0 0 0 1 1 2 2\n",
            " 2 0 0 2 2 1 0 2]\n",
            "Độ chính xác của mô hình 0.8222222222222222\n"
          ]
        }
      ]
    },
    {
      "cell_type": "code",
      "source": [
        "# Data crabs.csv\n",
        "import numpy as np\n",
        "import pandas as pd\n",
        "import matplotlib.pyplot as plt\n",
        "from sklearn.linear_model import Perceptron\n",
        "from sklearn.model_selection import train_test_split\n",
        "from sklearn.metrics import accuracy_score\n",
        "from sklearn.preprocessing import StandardScaler\n",
        "\n",
        "data = pd.read_csv(\"crabs.csv\")\n",
        "data[\"sex\"].replace({\"M\": 1, \"F\": 0}, inplace=True)\n",
        "data[\"speies\"].replace({\"B\": 1, \"O\": 0}, inplace=True)\n",
        "\n",
        "# In ra 5 dòng đầu tiên của tập dữ liệu\n",
        "print(data.head(160)) \n",
        "\n",
        "# chuyển 7 cột trong data thành 1 matran x, output y là \"sexsex\"\n",
        "#x= data.set_index('speies')\n",
        "\n",
        "y=data['sex']\n",
        "y = y.values #Chuyển sang ma trận\n",
        "x = data[['speies','index','fontallip','rearwidth','length','width','depth']]\n",
        "x = x.values #Chuyển sang ma trận\n",
        "\n",
        "print(\"x=\",x[:5])\n",
        "print(\"y= \",y[:5])\n",
        "\n",
        "x_train, x_test,y_train, y_test= train_test_split(x,y,test_size=0.3)  #30% data dùng để test, 70% còn lại là để train\n",
        "\n",
        "sc= StandardScaler()    # scal có thể giúp tăng kết quả chính xác\n",
        "sc.fit(x_train)\n",
        "\n",
        "x_train_std= sc.transform(x_train)\n",
        "x_test_std= sc.transform(x_test)\n",
        "\n",
        "print(x_train_std[:5],x_train[:5])\n",
        "print(y[:5])\n",
        "\n",
        "model= Perceptron(max_iter=40, eta0=0.1,random_state=0) # học max_iter=40 // học 40 lần|        tốc dộ học eta0=0.1// Giá trị của eta0 có thể được chọn trong khoảng từ 0 đến 1 trung bình, học nhanh sẽ bỏ qua điểm hội tụ nghiệm làm kết quả chính xác thấp hơn\n",
        "model.fit(x_train_std,y_train)\n",
        "y_pred= model.predict(x_test_std)\n",
        "print(y_pred)\n",
        "print(y_test)\n",
        "print(\"Độ chính xác của mô hình\", accuracy_score(y_test,y_pred))\n"
      ],
      "metadata": {
        "colab": {
          "base_uri": "https://localhost:8080/"
        },
        "id": "nzkWDpin_otz",
        "outputId": "4717c352-2562-4b35-84ac-c4e944d973f5"
      },
      "execution_count": 45,
      "outputs": [
        {
          "output_type": "stream",
          "name": "stdout",
          "text": [
            "     speies  sex  index  fontallip  rearwidth  length  width  depth\n",
            "0         1    1      1        8.1        6.7    16.1   19.0    7.0\n",
            "1         1    1      2        8.8        7.7    18.1   20.8    7.4\n",
            "2         1    1      3        9.2        7.8    19.0   22.4    7.7\n",
            "3         1    1      4        9.6        7.9    20.1   23.1    8.2\n",
            "4         1    1      5        9.8        8.0    20.3   23.0    8.2\n",
            "..      ...  ...    ...        ...        ...     ...    ...    ...\n",
            "155       0    0      6       14.0       11.9    27.0   31.4   12.6\n",
            "156       0    0      7       14.0       12.8    28.8   32.4   12.7\n",
            "157       0    0      8       14.3       12.2    28.1   31.8   12.5\n",
            "158       0    0      9       14.7       13.2    29.6   33.4   12.9\n",
            "159       0    0     10       14.9       13.0    30.0   33.7   13.3\n",
            "\n",
            "[160 rows x 8 columns]\n",
            "x= [[ 1.   1.   8.1  6.7 16.1 19.   7. ]\n",
            " [ 1.   2.   8.8  7.7 18.1 20.8  7.4]\n",
            " [ 1.   3.   9.2  7.8 19.  22.4  7.7]\n",
            " [ 1.   4.   9.6  7.9 20.1 23.1  8.2]\n",
            " [ 1.   5.   9.8  8.  20.3 23.   8.2]]\n",
            "y=  [1 1 1 1 1]\n",
            "[[ 1.          0.02742143 -0.11933777 -0.26446851  0.01853403  0.0285516\n",
            "  -0.13048754]\n",
            " [ 1.         -1.15917864 -1.08376523 -1.21481736 -1.12372637 -1.1044195\n",
            "  -1.27592483]\n",
            " [ 1.          0.93482148 -0.06260674  0.19169894  0.03263601  0.14312171\n",
            "  -0.07174717]\n",
            " [ 1.         -0.94977863 -0.94193766 -0.682622   -0.75707488 -0.63340905\n",
            "  -0.77663165]\n",
            " [ 1.         -1.15917864 -1.48088242 -1.17680341 -1.47627588 -1.4099398\n",
            "  -1.68710744]] [[ 1.  26.  15.2 12.1 32.3 36.7 13.6]\n",
            " [ 1.   9.  11.8  9.6 24.2 27.8  9.7]\n",
            " [ 1.  39.  15.4 13.3 32.4 37.6 13.8]\n",
            " [ 1.  12.  12.3 11.  26.8 31.5 11.4]\n",
            " [ 1.   9.  10.4  9.7 21.7 25.4  8.3]]\n",
            "[1 1 1 1 1]\n",
            "[1 0 0 1 1 0 0 0 1 0 1 0 1 0 0 1 0 0 0 1 1 1 1 1 0 1 1 1 1 1 1 1 0 1 1 0 0\n",
            " 0 1 0 1 1 0 1 1 1 1 1 0 0 0 1 1 1 1 1 1 1 0 0]\n",
            "[1 0 0 1 1 0 0 0 0 0 1 0 1 0 0 1 0 0 0 1 1 1 1 1 0 1 1 1 1 1 0 1 0 1 0 0 0\n",
            " 0 1 0 1 1 0 1 1 1 0 1 0 0 0 1 0 1 1 1 1 1 0 0]\n",
            "Độ chính xác của mô hình 0.9166666666666666\n"
          ]
        }
      ]
    }
  ]
}